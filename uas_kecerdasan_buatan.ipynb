{
  "nbformat": 4,
  "nbformat_minor": 0,
  "metadata": {
    "colab": {
      "provenance": [],
      "authorship_tag": "ABX9TyMHlqLzaP0sfDeZY5mkT1QL",
      "include_colab_link": true
    },
    "kernelspec": {
      "name": "python3",
      "display_name": "Python 3"
    },
    "language_info": {
      "name": "python"
    }
  },
  "cells": [
    {
      "cell_type": "markdown",
      "metadata": {
        "id": "view-in-github",
        "colab_type": "text"
      },
      "source": [
        "<a href=\"https://colab.research.google.com/github/RenggaAnggarah645/dataset/blob/main/uas_kecerdasan_buatan.ipynb\" target=\"_parent\"><img src=\"https://colab.research.google.com/assets/colab-badge.svg\" alt=\"Open In Colab\"/></a>"
      ]
    },
    {
      "cell_type": "code",
      "execution_count": null,
      "metadata": {
        "colab": {
          "base_uri": "https://localhost:8080/",
          "height": 73
        },
        "id": "PcJn9qdK7BYZ",
        "outputId": "2868bf0c-c014-49c4-b930-3df2292ed10b"
      },
      "outputs": [
        {
          "output_type": "display_data",
          "data": {
            "text/plain": [
              "<IPython.core.display.HTML object>"
            ],
            "text/html": [
              "\n",
              "     <input type=\"file\" id=\"files-fec30d49-7e26-4247-bb3e-b7675afb513f\" name=\"files[]\" multiple disabled\n",
              "        style=\"border:none\" />\n",
              "     <output id=\"result-fec30d49-7e26-4247-bb3e-b7675afb513f\">\n",
              "      Upload widget is only available when the cell has been executed in the\n",
              "      current browser session. Please rerun this cell to enable.\n",
              "      </output>\n",
              "      <script>// Copyright 2017 Google LLC\n",
              "//\n",
              "// Licensed under the Apache License, Version 2.0 (the \"License\");\n",
              "// you may not use this file except in compliance with the License.\n",
              "// You may obtain a copy of the License at\n",
              "//\n",
              "//      http://www.apache.org/licenses/LICENSE-2.0\n",
              "//\n",
              "// Unless required by applicable law or agreed to in writing, software\n",
              "// distributed under the License is distributed on an \"AS IS\" BASIS,\n",
              "// WITHOUT WARRANTIES OR CONDITIONS OF ANY KIND, either express or implied.\n",
              "// See the License for the specific language governing permissions and\n",
              "// limitations under the License.\n",
              "\n",
              "/**\n",
              " * @fileoverview Helpers for google.colab Python module.\n",
              " */\n",
              "(function(scope) {\n",
              "function span(text, styleAttributes = {}) {\n",
              "  const element = document.createElement('span');\n",
              "  element.textContent = text;\n",
              "  for (const key of Object.keys(styleAttributes)) {\n",
              "    element.style[key] = styleAttributes[key];\n",
              "  }\n",
              "  return element;\n",
              "}\n",
              "\n",
              "// Max number of bytes which will be uploaded at a time.\n",
              "const MAX_PAYLOAD_SIZE = 100 * 1024;\n",
              "\n",
              "function _uploadFiles(inputId, outputId) {\n",
              "  const steps = uploadFilesStep(inputId, outputId);\n",
              "  const outputElement = document.getElementById(outputId);\n",
              "  // Cache steps on the outputElement to make it available for the next call\n",
              "  // to uploadFilesContinue from Python.\n",
              "  outputElement.steps = steps;\n",
              "\n",
              "  return _uploadFilesContinue(outputId);\n",
              "}\n",
              "\n",
              "// This is roughly an async generator (not supported in the browser yet),\n",
              "// where there are multiple asynchronous steps and the Python side is going\n",
              "// to poll for completion of each step.\n",
              "// This uses a Promise to block the python side on completion of each step,\n",
              "// then passes the result of the previous step as the input to the next step.\n",
              "function _uploadFilesContinue(outputId) {\n",
              "  const outputElement = document.getElementById(outputId);\n",
              "  const steps = outputElement.steps;\n",
              "\n",
              "  const next = steps.next(outputElement.lastPromiseValue);\n",
              "  return Promise.resolve(next.value.promise).then((value) => {\n",
              "    // Cache the last promise value to make it available to the next\n",
              "    // step of the generator.\n",
              "    outputElement.lastPromiseValue = value;\n",
              "    return next.value.response;\n",
              "  });\n",
              "}\n",
              "\n",
              "/**\n",
              " * Generator function which is called between each async step of the upload\n",
              " * process.\n",
              " * @param {string} inputId Element ID of the input file picker element.\n",
              " * @param {string} outputId Element ID of the output display.\n",
              " * @return {!Iterable<!Object>} Iterable of next steps.\n",
              " */\n",
              "function* uploadFilesStep(inputId, outputId) {\n",
              "  const inputElement = document.getElementById(inputId);\n",
              "  inputElement.disabled = false;\n",
              "\n",
              "  const outputElement = document.getElementById(outputId);\n",
              "  outputElement.innerHTML = '';\n",
              "\n",
              "  const pickedPromise = new Promise((resolve) => {\n",
              "    inputElement.addEventListener('change', (e) => {\n",
              "      resolve(e.target.files);\n",
              "    });\n",
              "  });\n",
              "\n",
              "  const cancel = document.createElement('button');\n",
              "  inputElement.parentElement.appendChild(cancel);\n",
              "  cancel.textContent = 'Cancel upload';\n",
              "  const cancelPromise = new Promise((resolve) => {\n",
              "    cancel.onclick = () => {\n",
              "      resolve(null);\n",
              "    };\n",
              "  });\n",
              "\n",
              "  // Wait for the user to pick the files.\n",
              "  const files = yield {\n",
              "    promise: Promise.race([pickedPromise, cancelPromise]),\n",
              "    response: {\n",
              "      action: 'starting',\n",
              "    }\n",
              "  };\n",
              "\n",
              "  cancel.remove();\n",
              "\n",
              "  // Disable the input element since further picks are not allowed.\n",
              "  inputElement.disabled = true;\n",
              "\n",
              "  if (!files) {\n",
              "    return {\n",
              "      response: {\n",
              "        action: 'complete',\n",
              "      }\n",
              "    };\n",
              "  }\n",
              "\n",
              "  for (const file of files) {\n",
              "    const li = document.createElement('li');\n",
              "    li.append(span(file.name, {fontWeight: 'bold'}));\n",
              "    li.append(span(\n",
              "        `(${file.type || 'n/a'}) - ${file.size} bytes, ` +\n",
              "        `last modified: ${\n",
              "            file.lastModifiedDate ? file.lastModifiedDate.toLocaleDateString() :\n",
              "                                    'n/a'} - `));\n",
              "    const percent = span('0% done');\n",
              "    li.appendChild(percent);\n",
              "\n",
              "    outputElement.appendChild(li);\n",
              "\n",
              "    const fileDataPromise = new Promise((resolve) => {\n",
              "      const reader = new FileReader();\n",
              "      reader.onload = (e) => {\n",
              "        resolve(e.target.result);\n",
              "      };\n",
              "      reader.readAsArrayBuffer(file);\n",
              "    });\n",
              "    // Wait for the data to be ready.\n",
              "    let fileData = yield {\n",
              "      promise: fileDataPromise,\n",
              "      response: {\n",
              "        action: 'continue',\n",
              "      }\n",
              "    };\n",
              "\n",
              "    // Use a chunked sending to avoid message size limits. See b/62115660.\n",
              "    let position = 0;\n",
              "    do {\n",
              "      const length = Math.min(fileData.byteLength - position, MAX_PAYLOAD_SIZE);\n",
              "      const chunk = new Uint8Array(fileData, position, length);\n",
              "      position += length;\n",
              "\n",
              "      const base64 = btoa(String.fromCharCode.apply(null, chunk));\n",
              "      yield {\n",
              "        response: {\n",
              "          action: 'append',\n",
              "          file: file.name,\n",
              "          data: base64,\n",
              "        },\n",
              "      };\n",
              "\n",
              "      let percentDone = fileData.byteLength === 0 ?\n",
              "          100 :\n",
              "          Math.round((position / fileData.byteLength) * 100);\n",
              "      percent.textContent = `${percentDone}% done`;\n",
              "\n",
              "    } while (position < fileData.byteLength);\n",
              "  }\n",
              "\n",
              "  // All done.\n",
              "  yield {\n",
              "    response: {\n",
              "      action: 'complete',\n",
              "    }\n",
              "  };\n",
              "}\n",
              "\n",
              "scope.google = scope.google || {};\n",
              "scope.google.colab = scope.google.colab || {};\n",
              "scope.google.colab._files = {\n",
              "  _uploadFiles,\n",
              "  _uploadFilesContinue,\n",
              "};\n",
              "})(self);\n",
              "</script> "
            ]
          },
          "metadata": {}
        },
        {
          "output_type": "stream",
          "name": "stdout",
          "text": [
            "Saving PdM_errors.csv to PdM_errors.csv\n"
          ]
        }
      ],
      "source": [
        "from google.colab import files\n",
        "uploaded = files.upload()\n"
      ]
    },
    {
      "cell_type": "code",
      "source": [
        "import pandas as pd\n",
        "\n",
        "# Menampilkan Dataset\n",
        "file_path = 'PdM_errors.csv'\n",
        "data = pd.read_csv(file_path)\n",
        "print(\"Dataset:\")\n",
        "print(data.head())\n"
      ],
      "metadata": {
        "colab": {
          "base_uri": "https://localhost:8080/"
        },
        "id": "PDz_2-aDCnxJ",
        "outputId": "8f3a1878-1902-43b5-88ba-2f6fe7f04251"
      },
      "execution_count": null,
      "outputs": [
        {
          "output_type": "stream",
          "name": "stdout",
          "text": [
            "Dataset:\n",
            "              datetime  machineID errorID\n",
            "0  2015-01-03 07:00:00          1  error1\n",
            "1  2015-01-03 20:00:00          1  error3\n",
            "2  2015-01-04 06:00:00          1  error5\n",
            "3  2015-01-10 15:00:00          1  error4\n",
            "4  2015-01-22 10:00:00          1  error4\n"
          ]
        }
      ]
    },
    {
      "cell_type": "code",
      "source": [
        "# Pembersihan Data\n",
        "# Menghapus duplikat\n",
        "data_cleaned = data.drop_duplicates()\n",
        "\n",
        "# Menangani nilai yang hilang dengan mengisi menggunakan nilai rata-rata (untuk kolom numerik)\n",
        "data_cleaned = data_cleaned.fillna(data_cleaned.select_dtypes(include=['float64', 'int64']).mean())\n",
        "\n",
        "print(\"\\nDataset setelah pembersihan:\")\n",
        "print(data_cleaned.head())\n"
      ],
      "metadata": {
        "colab": {
          "base_uri": "https://localhost:8080/"
        },
        "id": "WvSJO3ZHDNDG",
        "outputId": "11c3a484-0882-4479-8e1f-a5a28c37c855"
      },
      "execution_count": null,
      "outputs": [
        {
          "output_type": "stream",
          "name": "stdout",
          "text": [
            "\n",
            "Dataset setelah pembersihan:\n",
            "              datetime  machineID errorID\n",
            "0  2015-01-03 07:00:00          1  error1\n",
            "1  2015-01-03 20:00:00          1  error3\n",
            "2  2015-01-04 06:00:00          1  error5\n",
            "3  2015-01-10 15:00:00          1  error4\n",
            "4  2015-01-22 10:00:00          1  error4\n"
          ]
        }
      ]
    },
    {
      "cell_type": "code",
      "source": [
        "from sklearn.preprocessing import LabelEncoder\n",
        "\n",
        "# Pemrosesan Kolom Kategorikal\n",
        "# Mengubah kolom datetime menjadi tipe datetime\n",
        "data_cleaned['datetime'] = pd.to_datetime(data_cleaned['datetime'])\n",
        "\n",
        "# Menggunakan LabelEncoder untuk kolom kategorikal\n",
        "label_encoder = LabelEncoder()\n",
        "data_cleaned['errorID'] = label_encoder.fit_transform(data_cleaned['errorID'])\n",
        "\n",
        "print(\"\\nDataset setelah pemrosesan kolom kategorikal:\")\n",
        "print(data_cleaned.head())\n"
      ],
      "metadata": {
        "colab": {
          "base_uri": "https://localhost:8080/"
        },
        "id": "Qp3pBMp3Dd4w",
        "outputId": "c7bf1633-0d81-4278-f7f7-5da5bf78a308"
      },
      "execution_count": null,
      "outputs": [
        {
          "output_type": "stream",
          "name": "stdout",
          "text": [
            "\n",
            "Dataset setelah pemrosesan kolom kategorikal:\n",
            "             datetime  machineID  errorID\n",
            "0 2015-01-03 07:00:00          1        0\n",
            "1 2015-01-03 20:00:00          1        2\n",
            "2 2015-01-04 06:00:00          1        4\n",
            "3 2015-01-10 15:00:00          1        3\n",
            "4 2015-01-22 10:00:00          1        3\n"
          ]
        }
      ]
    },
    {
      "cell_type": "code",
      "source": [
        "from sklearn.preprocessing import StandardScaler\n",
        "\n",
        "# Normalisasi Data\n",
        "# Mengasumsikan semua kolom numerik perlu dinormalisasi\n",
        "numerical_features = data_cleaned.select_dtypes(include=['float64', 'int64']).columns\n",
        "\n",
        "scaler = StandardScaler()\n",
        "data_cleaned[numerical_features] = scaler.fit_transform(data_cleaned[numerical_features])\n",
        "\n",
        "print(\"\\nDataset setelah normalisasi:\")\n",
        "print(data_cleaned.head())\n"
      ],
      "metadata": {
        "colab": {
          "base_uri": "https://localhost:8080/"
        },
        "id": "H-APctcpDkR0",
        "outputId": "52f489a4-abfe-4af3-eca3-2725b8bf4fcf"
      },
      "execution_count": null,
      "outputs": [
        {
          "output_type": "stream",
          "name": "stdout",
          "text": [
            "\n",
            "Dataset setelah normalisasi:\n",
            "             datetime  machineID   errorID\n",
            "0 2015-01-03 07:00:00  -1.728581 -1.237263\n",
            "1 2015-01-03 20:00:00  -1.728581  0.309661\n",
            "2 2015-01-04 06:00:00  -1.728581  1.856586\n",
            "3 2015-01-10 15:00:00  -1.728581  1.083124\n",
            "4 2015-01-22 10:00:00  -1.728581  1.083124\n"
          ]
        }
      ]
    },
    {
      "cell_type": "code",
      "source": [
        "from sklearn.model_selection import train_test_split\n",
        "\n",
        "# Segmentasi Data\n",
        "# Misalnya, jika kolom target adalah 'errorID', ganti dengan nama kolom target yang sesuai\n",
        "target_column = 'errorID'  # Ganti dengan kolom target yang sesuai\n",
        "\n",
        "X = data_cleaned.drop(columns=[target_column, 'datetime'])\n",
        "y = data_cleaned[target_column]\n",
        "\n",
        "# Membagi data menjadi set pelatihan, validasi, dan pengujian\n",
        "X_train, X_temp, y_train, y_temp = train_test_split(X, y, test_size=0.4, random_state=42)\n",
        "X_val, X_test, y_val, y_test = train_test_split(X_temp, y_temp, test_size=0.5, random_state=42)\n",
        "\n",
        "print(\"\\nUkuran set pelatihan, validasi, dan pengujian:\")\n",
        "print(f\"Pelatihan: {X_train.shape[0]} sampel\")\n",
        "print(f\"Validasi: {X_val.shape[0]} sampel\")\n",
        "print(f\"Pengujian: {X_test.shape[0]} sampel\")\n"
      ],
      "metadata": {
        "colab": {
          "base_uri": "https://localhost:8080/"
        },
        "id": "EyzWNkg_DpYk",
        "outputId": "91c90b48-4db4-4e38-ed3f-9dae2d8b72ae"
      },
      "execution_count": null,
      "outputs": [
        {
          "output_type": "stream",
          "name": "stdout",
          "text": [
            "\n",
            "Ukuran set pelatihan, validasi, dan pengujian:\n",
            "Pelatihan: 2351 sampel\n",
            "Validasi: 784 sampel\n",
            "Pengujian: 784 sampel\n"
          ]
        }
      ]
    },
    {
      "cell_type": "code",
      "source": [
        "import pandas as pd\n",
        "\n",
        "# Asumsikan dataset berada dalam file 'PdM_errors.csv'\n",
        "data = pd.read_csv('PdM_errors.csv')\n",
        "\n",
        "# Melihat nama kolom dalam dataset\n",
        "print(data.columns)\n"
      ],
      "metadata": {
        "colab": {
          "base_uri": "https://localhost:8080/"
        },
        "id": "i-DUtA37bhci",
        "outputId": "6b08e53a-76e1-4f52-d828-c33d72e09ebd"
      },
      "execution_count": null,
      "outputs": [
        {
          "output_type": "stream",
          "name": "stdout",
          "text": [
            "Index(['datetime', 'machineID', 'errorID'], dtype='object')\n"
          ]
        }
      ]
    },
    {
      "cell_type": "code",
      "source": [
        "import pandas as pd\n",
        "from sklearn.model_selection import train_test_split\n",
        "\n",
        "# Asumsikan dataset berada dalam file 'PdM_errors.csv'\n",
        "data = pd.read_csv('PdM_errors.csv')\n",
        "\n",
        "# Melihat nama kolom dalam dataset\n",
        "print(data.columns)\n",
        "\n",
        "# Menentukan kolom fitur dan kolom target\n",
        "features = data.drop(columns=['errorID'])\n",
        "target = data['errorID']\n",
        "\n",
        "# Membagi dataset menjadi set pelatihan dan pengujian\n",
        "X_train, X_test, y_train, y_test = train_test_split(features, target, test_size=0.2, random_state=42)\n"
      ],
      "metadata": {
        "colab": {
          "base_uri": "https://localhost:8080/"
        },
        "id": "GsRFt3xCbqX4",
        "outputId": "15cc9b88-f6d7-434f-d0cd-e694eecf55ee"
      },
      "execution_count": null,
      "outputs": [
        {
          "output_type": "stream",
          "name": "stdout",
          "text": [
            "Index(['datetime', 'machineID', 'errorID'], dtype='object')\n"
          ]
        }
      ]
    },
    {
      "cell_type": "code",
      "source": [
        "import pandas as pd\n",
        "from sklearn.model_selection import train_test_split\n",
        "\n",
        "# Asumsikan dataset berada dalam file 'PdM_errors.csv'\n",
        "data = pd.read_csv('PdM_errors.csv')\n",
        "\n",
        "# Konversi kolom datetime menjadi tipe datetime\n",
        "data['datetime'] = pd.to_datetime(data['datetime'])\n",
        "\n",
        "# Ekstrak fitur dari kolom datetime\n",
        "data['year'] = data['datetime'].dt.year\n",
        "data['month'] = data['datetime'].dt.month\n",
        "data['day'] = data['datetime'].dt.day\n",
        "data['hour'] = data['datetime'].dt.hour\n",
        "\n",
        "# Drop kolom datetime setelah ekstraksi fitur\n",
        "data = data.drop(columns=['datetime'])\n",
        "\n",
        "# Menentukan kolom fitur dan kolom target\n",
        "features = data.drop(columns=['errorID'])\n",
        "target = data['errorID']\n",
        "\n",
        "# Membagi dataset menjadi set pelatihan dan pengujian\n",
        "X_train, X_test, y_train, y_test = train_test_split(features, target, test_size=0.2, random_state=42)\n"
      ],
      "metadata": {
        "id": "YfamH5-qcPhl"
      },
      "execution_count": null,
      "outputs": []
    },
    {
      "cell_type": "code",
      "source": [
        "from sklearn.ensemble import RandomForestClassifier\n",
        "from sklearn.model_selection import GridSearchCV\n",
        "\n",
        "# Mendefinisikan model Random Forest\n",
        "rf_model = RandomForestClassifier()\n",
        "\n",
        "# Hyperparameter grid untuk Random Forest\n",
        "rf_param_grid = {\n",
        "    'n_estimators': [100, 200],\n",
        "    'max_depth': [10, 20]\n",
        "}\n",
        "\n",
        "# Melakukan pencarian grid untuk Random Forest\n",
        "rf_grid_search = GridSearchCV(rf_model, rf_param_grid, cv=5, scoring='accuracy')\n",
        "rf_grid_search.fit(X_train, y_train)\n",
        "\n",
        "# Menyimpan model terbaik untuk Random Forest\n",
        "best_rf_model = rf_grid_search.best_estimator_\n",
        "print(f\"Model terbaik untuk Random Forest: {rf_grid_search.best_params_}\")\n",
        "print(f\"Akurasi terbaik untuk Random Forest: {rf_grid_search.best_score_}\")\n"
      ],
      "metadata": {
        "colab": {
          "base_uri": "https://localhost:8080/"
        },
        "id": "8zXNjHGeck5b",
        "outputId": "618f2c1b-ead4-493a-93f9-e041d904711f"
      },
      "execution_count": null,
      "outputs": [
        {
          "output_type": "stream",
          "name": "stdout",
          "text": [
            "Model terbaik untuk Random Forest: {'max_depth': 10, 'n_estimators': 100}\n",
            "Akurasi terbaik untuk Random Forest: 0.22424242424242422\n"
          ]
        }
      ]
    },
    {
      "cell_type": "code",
      "source": [
        "from sklearn.ensemble import GradientBoostingClassifier\n",
        "\n",
        "# Mendefinisikan model Gradient Boosting\n",
        "gb_model = GradientBoostingClassifier()\n",
        "\n",
        "# Hyperparameter grid untuk Gradient Boosting\n",
        "gb_param_grid = {\n",
        "    'n_estimators': [100, 200],\n",
        "    'learning_rate': [0.01, 0.1]\n",
        "}\n",
        "\n",
        "# Melakukan pencarian grid untuk Gradient Boosting\n",
        "gb_grid_search = GridSearchCV(gb_model, gb_param_grid, cv=5, scoring='accuracy')\n",
        "gb_grid_search.fit(X_train, y_train)\n",
        "\n",
        "# Menyimpan model terbaik untuk Gradient Boosting\n",
        "best_gb_model = gb_grid_search.best_estimator_\n",
        "print(f\"Model terbaik untuk Gradient Boosting: {gb_grid_search.best_params_}\")\n",
        "print(f\"Akurasi terbaik untuk Gradient Boosting: {gb_grid_search.best_score_}\")\n"
      ],
      "metadata": {
        "colab": {
          "base_uri": "https://localhost:8080/"
        },
        "id": "P47Cvj4WetDm",
        "outputId": "108ebd5d-7787-4f98-99e0-59ebc38c6723"
      },
      "execution_count": null,
      "outputs": [
        {
          "output_type": "stream",
          "name": "stdout",
          "text": [
            "Model terbaik untuk Gradient Boosting: {'learning_rate': 0.01, 'n_estimators': 100}\n",
            "Akurasi terbaik untuk Gradient Boosting: 0.2542264752791069\n"
          ]
        }
      ]
    },
    {
      "cell_type": "code",
      "source": [
        "from sklearn.neural_network import MLPClassifier\n",
        "\n",
        "# Mendefinisikan model Neural Network\n",
        "nn_model = MLPClassifier()\n",
        "\n",
        "# Hyperparameter grid untuk Neural Network\n",
        "nn_param_grid = {\n",
        "    'hidden_layer_sizes': [(50,), (100,)],\n",
        "    'activation': ['relu', 'tanh']\n",
        "}\n",
        "\n",
        "# Melakukan pencarian grid untuk Neural Network\n",
        "nn_grid_search = GridSearchCV(nn_model, nn_param_grid, cv=5, scoring='accuracy')\n",
        "nn_grid_search.fit(X_train, y_train)\n",
        "\n",
        "# Menyimpan model terbaik untuk Neural Network\n",
        "best_nn_model = nn_grid_search.best_estimator_\n",
        "print(f\"Model terbaik untuk Neural Network: {nn_grid_search.best_params_}\")\n",
        "print(f\"Akurasi terbaik untuk Neural Network: {nn_grid_search.best_score_}\")\n"
      ],
      "metadata": {
        "colab": {
          "base_uri": "https://localhost:8080/"
        },
        "id": "CmykW4-_gAi8",
        "outputId": "399c3bcc-e7c5-4ce5-8aa1-f6f982639b63"
      },
      "execution_count": null,
      "outputs": [
        {
          "output_type": "stream",
          "name": "stdout",
          "text": [
            "Model terbaik untuk Neural Network: {'activation': 'tanh', 'hidden_layer_sizes': (50,)}\n",
            "Akurasi terbaik untuk Neural Network: 0.2618819776714513\n"
          ]
        }
      ]
    },
    {
      "cell_type": "code",
      "source": [
        "from sklearn.metrics import accuracy_score\n",
        "\n",
        "# Evaluasi Random Forest\n",
        "y_pred_rf = best_rf_model.predict(X_test)\n",
        "accuracy_rf = accuracy_score(y_test, y_pred_rf)\n",
        "print(f\"Akurasi pada set pengujian untuk Random Forest: {accuracy_rf}\")\n",
        "\n",
        "# Evaluasi Gradient Boosting\n",
        "y_pred_gb = best_gb_model.predict(X_test)\n",
        "accuracy_gb = accuracy_score(y_test, y_pred_gb)\n",
        "print(f\"Akurasi pada set pengujian untuk Gradient Boosting: {accuracy_gb}\")\n",
        "\n",
        "# Evaluasi Neural Network\n",
        "y_pred_nn = best_nn_model.predict(X_test)\n",
        "accuracy_nn = accuracy_score(y_test, y_pred_nn)\n",
        "print(f\"Akurasi pada set pengujian untuk Neural Network: {accuracy_nn}\")\n"
      ],
      "metadata": {
        "colab": {
          "base_uri": "https://localhost:8080/"
        },
        "id": "NM-Ge91FicB6",
        "outputId": "10d09b59-996f-47e1-d064-d8f4f8401d4a"
      },
      "execution_count": null,
      "outputs": [
        {
          "output_type": "stream",
          "name": "stdout",
          "text": [
            "Akurasi pada set pengujian untuk Random Forest: 0.21301020408163265\n",
            "Akurasi pada set pengujian untuk Gradient Boosting: 0.2512755102040816\n",
            "Akurasi pada set pengujian untuk Neural Network: 0.24107142857142858\n"
          ]
        }
      ]
    },
    {
      "cell_type": "code",
      "source": [
        "import pandas as pd\n",
        "import numpy as np\n",
        "from sklearn.model_selection import train_test_split\n",
        "from sklearn.linear_model import LogisticRegression\n",
        "from sklearn.tree import DecisionTreeClassifier\n",
        "from sklearn.ensemble import RandomForestClassifier\n",
        "from sklearn.metrics import accuracy_score, precision_score, recall_score, f1_score, roc_auc_score\n",
        "\n",
        "# Load the dataset\n",
        "df = pd.read_csv('PdM_errors.csv')\n",
        "\n",
        "# Feature and target selection\n",
        "X = df[['machineID']]  # Features (we could include more features if available)\n",
        "y = df['errorID']  # Target\n",
        "\n",
        "# Encode categorical variables if needed\n",
        "X = pd.get_dummies(X, columns=['machineID'], drop_first=True)\n",
        "\n",
        "# Split the data into training and validation sets\n",
        "X_train, X_val, y_train, y_val = train_test_split(X, y, test_size=0.2, random_state=42)\n",
        "\n",
        "# Initialize models\n",
        "models = {\n",
        "    'Logistic Regression': LogisticRegression(max_iter=1000),\n",
        "    'Decision Tree': DecisionTreeClassifier(),\n",
        "    'Random Forest': RandomForestClassifier()\n",
        "}\n",
        "\n",
        "# Function to evaluate model\n",
        "def evaluate_model(model, X_train, y_train, X_val, y_val):\n",
        "    model.fit(X_train, y_train)\n",
        "    y_pred = model.predict(X_val)\n",
        "\n",
        "    if hasattr(model, \"predict_proba\"):\n",
        "        try:\n",
        "            y_pred_prob = model.predict_proba(X_val)\n",
        "            if y_pred_prob.shape[1] > 1:\n",
        "                y_pred_prob = y_pred_prob[:, 1]  # Use the second column for binary classification\n",
        "            roc_auc = roc_auc_score(y_val, y_pred_prob, multi_class='ovo', average='macro')\n",
        "        except IndexError:\n",
        "            roc_auc = None\n",
        "    else:\n",
        "        roc_auc = None\n",
        "\n",
        "    accuracy = accuracy_score(y_val, y_pred)\n",
        "    precision = precision_score(y_val, y_pred, average='macro')\n",
        "    recall = recall_score(y_val, y_pred, average='macro')\n",
        "    f1 = f1_score(y_val, y_pred, average='macro')\n",
        "\n",
        "    return {\n",
        "        'Accuracy': accuracy,\n",
        "        'Precision': precision,\n",
        "        'Recall': recall,\n",
        "        'F1 Score': f1,\n",
        "        'ROC-AUC': roc_auc\n",
        "    }\n",
        "\n",
        "# Dictionary to store evaluation results\n",
        "results = {}\n",
        "\n",
        "# Evaluate each model\n",
        "for model_name, model in models.items():\n",
        "    results[model_name] = evaluate_model(model, X_train, y_train, X_val, y_val)\n",
        "\n",
        "# Convert results to a DataFrame for better visualization\n",
        "results_df = pd.DataFrame(results).T\n",
        "print(results_df)\n",
        "\n",
        "# Determine the best model based on F1 Score\n",
        "best_model_name = results_df['F1 Score'].idxmax()\n",
        "best_model = models[best_model_name]\n",
        "\n",
        "print(f'Best model: {best_model_name}')\n"
      ],
      "metadata": {
        "colab": {
          "base_uri": "https://localhost:8080/"
        },
        "id": "fn5zpOrzEaCP",
        "outputId": "2ec188fd-2349-4a7a-95f9-cd13e2715a13"
      },
      "execution_count": null,
      "outputs": [
        {
          "output_type": "stream",
          "name": "stdout",
          "text": [
            "                     Accuracy  Precision    Recall  F1 Score  ROC-AUC\n",
            "Logistic Regression  0.258929   0.228350  0.222852  0.202365      NaN\n",
            "Decision Tree        0.258929   0.228350  0.222852  0.202365      NaN\n",
            "Random Forest        0.238520   0.216591  0.206870  0.196825      NaN\n",
            "Best model: Logistic Regression\n"
          ]
        }
      ]
    },
    {
      "cell_type": "code",
      "source": [
        "print(PdM_errors.columns)\n"
      ],
      "metadata": {
        "colab": {
          "base_uri": "https://localhost:8080/"
        },
        "id": "XdaPSQNUJ_uk",
        "outputId": "9f7799d9-98fb-4bcd-9dfa-eed1b089eef5"
      },
      "execution_count": null,
      "outputs": [
        {
          "output_type": "stream",
          "name": "stdout",
          "text": [
            "Index(['datetime', 'machineID', 'errorID'], dtype='object')\n"
          ]
        }
      ]
    },
    {
      "cell_type": "code",
      "source": [
        "from sklearn.model_selection import train_test_split\n",
        "from sklearn.metrics import accuracy_score, precision_score, recall_score, f1_score, roc_auc_score, confusion_matrix\n",
        "from sklearn.preprocessing import LabelEncoder\n",
        "from sklearn.ensemble import RandomForestClassifier\n",
        "import pandas as pd\n",
        "import matplotlib.pyplot as plt\n",
        "import seaborn as sns\n",
        "\n",
        "# Membaca dataset PdM_errors\n",
        "PdM_errors = pd.read_csv('PdM_errors.csv')\n",
        "\n",
        "# Mengekstraksi fitur-fitur tanggal dari kolom datetime\n",
        "PdM_errors['datetime'] = pd.to_datetime(PdM_errors['datetime'])\n",
        "PdM_errors['tahun'] = PdM_errors['datetime'].dt.year\n",
        "PdM_errors['bulan'] = PdM_errors['datetime'].dt.month\n",
        "PdM_errors['hari'] = PdM_errors['datetime'].dt.day\n",
        "PdM_errors['jam'] = PdM_errors['datetime'].dt.hour\n",
        "PdM_errors['menit'] = PdM_errors['datetime'].dt.minute\n",
        "PdM_errors['detik'] = PdM_errors['datetime'].dt.second\n",
        "\n",
        "# Menghapus kolom datetime\n",
        "PdM_errors = PdM_errors.drop(columns=['datetime'])\n",
        "\n",
        "# Menggunakan LabelEncoder untuk mengonversi errorID menjadi nilai numerik\n",
        "label_encoder = LabelEncoder()\n",
        "PdM_errors['kode_error'] = label_encoder.fit_transform(PdM_errors['errorID'])\n",
        "\n",
        "# Memisahkan fitur dan label\n",
        "X = PdM_errors.drop(columns=['kode_error', 'errorID'])  # Menggunakan semua kolom kecuali 'errorID' sebagai fitur\n",
        "y = PdM_errors['kode_error']  # Kolom 'errorID' sebagai label\n",
        "\n",
        "# Memisahkan data menjadi data latih dan data uji\n",
        "X_train, X_test, y_train, y_test = train_test_split(X, y, test_size=0.2, random_state=42)\n",
        "\n",
        "# Inisialisasi model\n",
        "model = RandomForestClassifier()\n",
        "\n",
        "# Melatih model\n",
        "model.fit(X_train, y_train)\n",
        "\n",
        "# Menguji model\n",
        "y_pred = model.predict(X_test)\n",
        "\n",
        "# Menghitung metrik evaluasi\n",
        "akurasi = accuracy_score(y_test, y_pred)\n",
        "presisi = precision_score(y_test, y_pred, average='weighted')\n",
        "recall = recall_score(y_test, y_pred, average='weighted')\n",
        "f1 = f1_score(y_test, y_pred, average='weighted')\n",
        "roc_auc = roc_auc_score(y_test, model.predict_proba(X_test), average='weighted', multi_class='ovr')\n",
        "\n",
        "# Menampilkan hasil evaluasi\n",
        "print(\"Evaluasi Model:\")\n",
        "print(f\"Akurasi: {akurasi:.2f}\")\n",
        "print(f\"Presisi: {presisi:.2f}\")\n",
        "print(f\"Recall: {recall:.2f}\")\n",
        "print(f\"Skor F1: {f1:.2f}\")\n",
        "print(f\"Skor AUC ROC: {roc_auc:.2f}\\n\")\n",
        "\n",
        "# Menghitung confusion matrix\n",
        "matrix_konfusi = confusion_matrix(y_test, y_pred)\n",
        "\n",
        "# Membuat heatmap untuk confusion matrix\n",
        "plt.figure(figsize=(5, 4))\n",
        "sns.heatmap(matrix_konfusi, annot=True, fmt=\"d\", cmap=\"Blues\", xticklabels=label_encoder.classes_, yticklabels=label_encoder.classes_)\n",
        "plt.xlabel('Label Prediksi')\n",
        "plt.ylabel('Label Sebenarnya')\n",
        "plt.title('Matrix Konfusi')\n",
        "plt.show()\n"
      ],
      "metadata": {
        "colab": {
          "base_uri": "https://localhost:8080/",
          "height": 532
        },
        "id": "1K0_t-i2NIHN",
        "outputId": "3249d3cb-8de2-4804-8ca4-8d8c3c9f3e1f"
      },
      "execution_count": null,
      "outputs": [
        {
          "output_type": "stream",
          "name": "stdout",
          "text": [
            "Evaluasi Model:\n",
            "Akurasi: 0.19\n",
            "Presisi: 0.18\n",
            "Recall: 0.19\n",
            "Skor F1: 0.18\n",
            "Skor AUC ROC: 0.46\n",
            "\n"
          ]
        },
        {
          "output_type": "display_data",
          "data": {
            "text/plain": [
              "<Figure size 500x400 with 2 Axes>"
            ],
            "image/png": "[encoded data removed]"
          },
          "metadata": {}
        }
      ]
    },
    {
      "cell_type": "code",
      "source": [
        "# Menampilkan daftar kolom dalam DataFrame 'PdM_errors'\n",
        "print(PdM_errors.columns)\n"
      ],
      "metadata": {
        "colab": {
          "base_uri": "https://localhost:8080/"
        },
        "id": "AmE09EcSTwdI",
        "outputId": "dc1615f9-2183-4783-c0a5-508d6d899db7"
      },
      "execution_count": null,
      "outputs": [
        {
          "output_type": "stream",
          "name": "stdout",
          "text": [
            "Index(['Langkah', 'Deskripsi'], dtype='object')\n"
          ]
        }
      ]
    },
    {
      "cell_type": "code",
      "source": [
        "import pandas as pd\n",
        "\n",
        "# Membaca dataset PdM_errors\n",
        "PdM_errors = pd.read_csv('PdM_errors.csv')\n",
        "\n",
        "# Menampilkan semua nama kolom\n",
        "print(PdM_errors.columns)\n"
      ],
      "metadata": {
        "colab": {
          "base_uri": "https://localhost:8080/"
        },
        "id": "t_H1aDgIUdPZ",
        "outputId": "9ccf80ae-c9a1-48dd-b0c5-e8b0db58ca70"
      },
      "execution_count": null,
      "outputs": [
        {
          "output_type": "stream",
          "name": "stdout",
          "text": [
            "Index(['datetime', 'machineID', 'errorID'], dtype='object')\n"
          ]
        }
      ]
    },
    {
      "cell_type": "code",
      "source": [
        "# Implementasi: Kembangkan strategi untuk menerapkan model pemeliharaan prediktif dalam lingkungan waktu nyata.\n",
        "def develop_predictive_maintenance_strategy():\n",
        "    # Kode untuk mengembangkan strategi pemeliharaan prediktif\n",
        "    print(\"Implementasi: Kembangkan strategi untuk menerapkan model pemeliharaan prediktif dalam lingkungan waktu nyata.\")\n",
        "\n",
        "# Integrasi: Integrasikan model dengan sistem pemeliharaan yang ada.\n",
        "def integrate_with_existing_maintenance_system():\n",
        "    # Kode untuk mengintegrasikan model dengan sistem pemeliharaan yang ada\n",
        "    print(\"Integrasi: Integrasikan model dengan sistem pemeliharaan yang ada.\")\n",
        "\n",
        "# Pemantauan: Siapkan pemantauan untuk melacak performa model yang diterapkan dan perbarui jika diperlukan.\n",
        "def prepare_monitoring():\n",
        "    # Kode untuk mempersiapkan pemantauan performa model\n",
        "    print(\"Pemantauan: Siapkan pemantauan untuk melacak performa model yang diterapkan dan perbarui jika diperlukan.\")\n",
        "\n",
        "# Panggil fungsi-fungsi untuk melaksanakan langkah-langkah\n",
        "develop_predictive_maintenance_strategy()\n",
        "integrate_with_existing_maintenance_system()\n",
        "prepare_monitoring()\n"
      ],
      "metadata": {
        "colab": {
          "base_uri": "https://localhost:8080/"
        },
        "id": "1hbOKg3hVtAc",
        "outputId": "a56cd794-f657-49ff-99f7-a884c6835661"
      },
      "execution_count": null,
      "outputs": [
        {
          "output_type": "stream",
          "name": "stdout",
          "text": [
            "Implementasi: Kembangkan strategi untuk menerapkan model pemeliharaan prediktif dalam lingkungan waktu nyata.\n",
            "Integrasi: Integrasikan model dengan sistem pemeliharaan yang ada.\n",
            "Pemantauan: Siapkan pemantauan untuk melacak performa model yang diterapkan dan perbarui jika diperlukan.\n"
          ]
        }
      ]
    },
    {
      "cell_type": "code",
      "source": [
        "import pandas as pd\n",
        "from sklearn.model_selection import train_test_split\n",
        "from sklearn.ensemble import RandomForestClassifier\n",
        "from sklearn.metrics import accuracy_score, precision_score, recall_score, f1_score\n",
        "from datetime import datetime\n",
        "import os\n",
        "\n",
        "# Load dataset\n",
        "PdM_errors = pd.read_csv('PdM_errors.csv')\n",
        "\n",
        "# Ubah datetime menjadi indeks\n",
        "PdM_errors['datetime'] = pd.to_datetime(PdM_errors['datetime'])\n",
        "PdM_errors.set_index('datetime', inplace=True)\n",
        "\n",
        "# Feature Engineering\n",
        "# Misalnya, tambahkan fitur berdasarkan data datetime\n",
        "PdM_errors['hour'] = PdM_errors.index.hour\n",
        "PdM_errors['day'] = PdM_errors.index.day\n",
        "PdM_errors['month'] = PdM_errors.index.month\n",
        "\n",
        "# Pisahkan data menjadi fitur (X) dan label (y)\n",
        "X = PdM_errors[['machineID', 'hour', 'day', 'month']]\n",
        "y = PdM_errors['errorID']\n",
        "\n",
        "# Pisahkan data menjadi data latih dan data uji\n",
        "X_train, X_test, y_train, y_test = train_test_split(X, y, test_size=0.2, random_state=42)\n",
        "\n",
        "# Inisialisasi dan latih model pemeliharaan prediktif (misalnya, Random Forest)\n",
        "model = RandomForestClassifier(n_estimators=100, random_state=42)\n",
        "model.fit(X_train, y_train)\n",
        "\n",
        "# Evaluasi model\n",
        "y_pred = model.predict(X_test)\n",
        "accuracy = accuracy_score(y_test, y_pred)\n",
        "print(\"Accuracy:\", accuracy)\n",
        "\n",
        "# Integrasi dengan sistem pemeliharaan yang ada\n",
        "# Implementasikan fungsi untuk memprediksi error menggunakan model\n",
        "def predict_error(machine_id, hour, day, month):\n",
        "    features = [[machine_id, hour, day, month]]\n",
        "    error_prediction = model.predict(features)\n",
        "    # Lakukan sesuatu dengan prediksi error, misalnya, panggil fungsi dalam sistem pemeliharaan yang ada\n",
        "    return error_prediction\n",
        "\n",
        "# Pemantauan performa model\n",
        "# Simpan metrik performa model dalam file log\n",
        "log_dir = \"model_logs/\" + datetime.now().strftime(\"%Y%m%d-%H%M%S\")\n",
        "os.makedirs(log_dir, exist_ok=True)\n",
        "\n",
        "# Simpan metrik akurasi\n",
        "with open(os.path.join(log_dir, \"accuracy.txt\"), \"w\") as f:\n",
        "    f.write(\"Accuracy: \" + str(accuracy))\n",
        "\n",
        "# Implementasi pemantauan\n",
        "# Simpan log metrik performa model untuk pemantauan dan pembaruan jika diperlukan.\n",
        "\n",
        "# Fungsi untuk menyimpan metrik performa model ke dalam file log\n",
        "def save_model_performance_metrics(log_dir, metrics):\n",
        "    with open(os.path.join(log_dir, \"performance_metrics.txt\"), \"w\") as f:\n",
        "        for metric_name, metric_value in metrics.items():\n",
        "            f.write(f\"{metric_name}: {metric_value}\\n\")\n",
        "\n",
        "# Menghitung dan menyimpan metrik precision, recall, dan f1 score\n",
        "precision = precision_score(y_test, y_pred, average='weighted')\n",
        "recall = recall_score(y_test, y_pred, average='weighted')\n",
        "f1 = f1_score(y_test, y_pred, average='weighted')\n",
        "\n",
        "other_metrics = {\n",
        "    \"Precision\": precision,\n",
        "    \"Recall\": recall,\n",
        "    \"F1 Score\": f1\n",
        "}\n",
        "\n",
        "# Simpan metrik performa model\n",
        "save_model_performance_metrics(log_dir, other_metrics)\n"
      ],
      "metadata": {
        "colab": {
          "base_uri": "https://localhost:8080/"
        },
        "id": "dIcHptPWXucF",
        "outputId": "b0cf094b-3b14-4abd-c825-1a93808302eb"
      },
      "execution_count": null,
      "outputs": [
        {
          "output_type": "stream",
          "name": "stdout",
          "text": [
            "Accuracy: 0.1683673469387755\n"
          ]
        }
      ]
    },
    {
      "cell_type": "code",
      "source": [
        "import pandas as pd\n",
        "from sklearn.model_selection import train_test_split\n",
        "from sklearn.ensemble import RandomForestClassifier\n",
        "from sklearn.metrics import accuracy_score\n",
        "from datetime import datetime\n",
        "import os\n",
        "\n",
        "class PredictiveMaintenanceSystem:\n",
        "    def __init__(self, data_path):\n",
        "        self.data = pd.read_csv(data_path)\n",
        "        self.model = None\n",
        "        self.log_dir = None\n",
        "\n",
        "    def preprocess_data(self):\n",
        "        # Ubah datetime menjadi indeks\n",
        "        self.data['datetime'] = pd.to_datetime(self.data['datetime'])\n",
        "        self.data.set_index('datetime', inplace=True)\n",
        "\n",
        "        # Feature Engineering\n",
        "        # Misalnya, tambahkan fitur berdasarkan data datetime\n",
        "        self.data['hour'] = self.data.index.hour\n",
        "        self.data['day'] = self.data.index.day\n",
        "        self.data['month'] = self.data.index.month\n",
        "\n",
        "        # Pisahkan data menjadi fitur (X) dan label (y)\n",
        "        X = self.data[['machineID', 'hour', 'day', 'month']]\n",
        "        y = self.data['errorID']\n",
        "\n",
        "        # Pisahkan data menjadi data latih dan data uji\n",
        "        self.X_train, self.X_test, self.y_train, self.y_test = train_test_split(X, y, test_size=0.2, random_state=42)\n",
        "\n",
        "    def train_model(self):\n",
        "        # Inisialisasi dan latih model pemeliharaan prediktif (misalnya, Random Forest)\n",
        "        self.model = RandomForestClassifier(n_estimators=100, random_state=42)\n",
        "        self.model.fit(self.X_train, self.y_train)\n",
        "\n",
        "    def evaluate_model(self):\n",
        "        # Evaluasi model\n",
        "        y_pred = self.model.predict(self.X_test)\n",
        "        accuracy = accuracy_score(self.y_test, y_pred)\n",
        "        print(\"Accuracy:\", accuracy)\n",
        "\n",
        "        # Simpan metrik performa model dalam file log\n",
        "        with open(os.path.join(self.log_dir, \"accuracy.txt\"), \"w\") as f:\n",
        "            f.write(\"Accuracy: \" + str(accuracy))\n",
        "\n",
        "    def integrate_with_maintenance_system(self):\n",
        "        # Implementasikan fungsi untuk memprediksi error menggunakan model\n",
        "        def predict_error(machine_id, hour, day, month):\n",
        "            features = [[machine_id, hour, day, month]]\n",
        "            error_prediction = self.model.predict(features)\n",
        "            # Lakukan sesuatu dengan prediksi error, misalnya, panggil fungsi dalam sistem pemeliharaan yang ada\n",
        "            return error_prediction\n",
        "\n",
        "    def monitor_model_performance(self):\n",
        "        # Simpan metrik performa model dalam file log\n",
        "        self.log_dir = \"model_logs/\" + datetime.now().strftime(\"%Y%m%d-%H%M%S\")\n",
        "        os.makedirs(self.log_dir, exist_ok=True)\n",
        "\n",
        "        # Simpan metrik akurasi\n",
        "        with open(os.path.join(self.log_dir, \"accuracy.txt\"), \"w\") as f:\n",
        "            f.write(\"Accuracy: \" + str(accuracy))\n",
        "\n",
        "    def update_model(self):\n",
        "        # Anda juga bisa menambahkan logika untuk memperbarui model jika diperlukan\n",
        "        pass\n",
        "\n",
        "# Inisialisasi sistem pemeliharaan prediktif\n",
        "pdm_system = PredictiveMaintenanceSystem('PdM_errors.csv')\n",
        "\n",
        "# Preprocess data\n",
        "pdm_system.preprocess_data()\n",
        "\n",
        "# Latih model\n",
        "pdm_system.train_model()\n",
        "\n",
        "# Evaluasi model\n",
        "pdm_system.monitor_model_performance()\n",
        "pdm_system.evaluate_model()\n",
        "\n",
        "# Integrasi dengan sistem pemeliharaan yang ada\n",
        "pdm_system.integrate_with_maintenance_system()\n",
        "\n",
        "# Update model jika diperlukan\n",
        "pdm_system.update_model()\n"
      ],
      "metadata": {
        "colab": {
          "base_uri": "https://localhost:8080/"
        },
        "id": "uQFOLostcSH8",
        "outputId": "38ee08ae-cf70-4466-d7a7-f31f7fd84528"
      },
      "execution_count": null,
      "outputs": [
        {
          "output_type": "stream",
          "name": "stdout",
          "text": [
            "Accuracy: 0.1683673469387755\n"
          ]
        }
      ]
    },
    {
      "cell_type": "code",
      "source": [
        "from google.colab import files\n",
        "uploaded = files.upload()"
      ],
      "metadata": {
        "colab": {
          "base_uri": "https://localhost:8080/",
          "height": 73
        },
        "id": "v-aRQ6QmjpEa",
        "outputId": "0d762fd0-eb72-4447-8692-4190064062f8"
      },
      "execution_count": null,
      "outputs": [
        {
          "output_type": "display_data",
          "data": {
            "text/plain": [
              "<IPython.core.display.HTML object>"
            ],
            "text/html": [
              "\n",
              "     <input type=\"file\" id=\"files-5c7e0269-2684-49f8-9507-64644e6fb1c9\" name=\"files[]\" multiple disabled\n",
              "        style=\"border:none\" />\n",
              "     <output id=\"result-5c7e0269-2684-49f8-9507-64644e6fb1c9\">\n",
              "      Upload widget is only available when the cell has been executed in the\n",
              "      current browser session. Please rerun this cell to enable.\n",
              "      </output>\n",
              "      <script>// Copyright 2017 Google LLC\n",
              "//\n",
              "// Licensed under the Apache License, Version 2.0 (the \"License\");\n",
              "// you may not use this file except in compliance with the License.\n",
              "// You may obtain a copy of the License at\n",
              "//\n",
              "//      http://www.apache.org/licenses/LICENSE-2.0\n",
              "//\n",
              "// Unless required by applicable law or agreed to in writing, software\n",
              "// distributed under the License is distributed on an \"AS IS\" BASIS,\n",
              "// WITHOUT WARRANTIES OR CONDITIONS OF ANY KIND, either express or implied.\n",
              "// See the License for the specific language governing permissions and\n",
              "// limitations under the License.\n",
              "\n",
              "/**\n",
              " * @fileoverview Helpers for google.colab Python module.\n",
              " */\n",
              "(function(scope) {\n",
              "function span(text, styleAttributes = {}) {\n",
              "  const element = document.createElement('span');\n",
              "  element.textContent = text;\n",
              "  for (const key of Object.keys(styleAttributes)) {\n",
              "    element.style[key] = styleAttributes[key];\n",
              "  }\n",
              "  return element;\n",
              "}\n",
              "\n",
              "// Max number of bytes which will be uploaded at a time.\n",
              "const MAX_PAYLOAD_SIZE = 100 * 1024;\n",
              "\n",
              "function _uploadFiles(inputId, outputId) {\n",
              "  const steps = uploadFilesStep(inputId, outputId);\n",
              "  const outputElement = document.getElementById(outputId);\n",
              "  // Cache steps on the outputElement to make it available for the next call\n",
              "  // to uploadFilesContinue from Python.\n",
              "  outputElement.steps = steps;\n",
              "\n",
              "  return _uploadFilesContinue(outputId);\n",
              "}\n",
              "\n",
              "// This is roughly an async generator (not supported in the browser yet),\n",
              "// where there are multiple asynchronous steps and the Python side is going\n",
              "// to poll for completion of each step.\n",
              "// This uses a Promise to block the python side on completion of each step,\n",
              "// then passes the result of the previous step as the input to the next step.\n",
              "function _uploadFilesContinue(outputId) {\n",
              "  const outputElement = document.getElementById(outputId);\n",
              "  const steps = outputElement.steps;\n",
              "\n",
              "  const next = steps.next(outputElement.lastPromiseValue);\n",
              "  return Promise.resolve(next.value.promise).then((value) => {\n",
              "    // Cache the last promise value to make it available to the next\n",
              "    // step of the generator.\n",
              "    outputElement.lastPromiseValue = value;\n",
              "    return next.value.response;\n",
              "  });\n",
              "}\n",
              "\n",
              "/**\n",
              " * Generator function which is called between each async step of the upload\n",
              " * process.\n",
              " * @param {string} inputId Element ID of the input file picker element.\n",
              " * @param {string} outputId Element ID of the output display.\n",
              " * @return {!Iterable<!Object>} Iterable of next steps.\n",
              " */\n",
              "function* uploadFilesStep(inputId, outputId) {\n",
              "  const inputElement = document.getElementById(inputId);\n",
              "  inputElement.disabled = false;\n",
              "\n",
              "  const outputElement = document.getElementById(outputId);\n",
              "  outputElement.innerHTML = '';\n",
              "\n",
              "  const pickedPromise = new Promise((resolve) => {\n",
              "    inputElement.addEventListener('change', (e) => {\n",
              "      resolve(e.target.files);\n",
              "    });\n",
              "  });\n",
              "\n",
              "  const cancel = document.createElement('button');\n",
              "  inputElement.parentElement.appendChild(cancel);\n",
              "  cancel.textContent = 'Cancel upload';\n",
              "  const cancelPromise = new Promise((resolve) => {\n",
              "    cancel.onclick = () => {\n",
              "      resolve(null);\n",
              "    };\n",
              "  });\n",
              "\n",
              "  // Wait for the user to pick the files.\n",
              "  const files = yield {\n",
              "    promise: Promise.race([pickedPromise, cancelPromise]),\n",
              "    response: {\n",
              "      action: 'starting',\n",
              "    }\n",
              "  };\n",
              "\n",
              "  cancel.remove();\n",
              "\n",
              "  // Disable the input element since further picks are not allowed.\n",
              "  inputElement.disabled = true;\n",
              "\n",
              "  if (!files) {\n",
              "    return {\n",
              "      response: {\n",
              "        action: 'complete',\n",
              "      }\n",
              "    };\n",
              "  }\n",
              "\n",
              "  for (const file of files) {\n",
              "    const li = document.createElement('li');\n",
              "    li.append(span(file.name, {fontWeight: 'bold'}));\n",
              "    li.append(span(\n",
              "        `(${file.type || 'n/a'}) - ${file.size} bytes, ` +\n",
              "        `last modified: ${\n",
              "            file.lastModifiedDate ? file.lastModifiedDate.toLocaleDateString() :\n",
              "                                    'n/a'} - `));\n",
              "    const percent = span('0% done');\n",
              "    li.appendChild(percent);\n",
              "\n",
              "    outputElement.appendChild(li);\n",
              "\n",
              "    const fileDataPromise = new Promise((resolve) => {\n",
              "      const reader = new FileReader();\n",
              "      reader.onload = (e) => {\n",
              "        resolve(e.target.result);\n",
              "      };\n",
              "      reader.readAsArrayBuffer(file);\n",
              "    });\n",
              "    // Wait for the data to be ready.\n",
              "    let fileData = yield {\n",
              "      promise: fileDataPromise,\n",
              "      response: {\n",
              "        action: 'continue',\n",
              "      }\n",
              "    };\n",
              "\n",
              "    // Use a chunked sending to avoid message size limits. See b/62115660.\n",
              "    let position = 0;\n",
              "    do {\n",
              "      const length = Math.min(fileData.byteLength - position, MAX_PAYLOAD_SIZE);\n",
              "      const chunk = new Uint8Array(fileData, position, length);\n",
              "      position += length;\n",
              "\n",
              "      const base64 = btoa(String.fromCharCode.apply(null, chunk));\n",
              "      yield {\n",
              "        response: {\n",
              "          action: 'append',\n",
              "          file: file.name,\n",
              "          data: base64,\n",
              "        },\n",
              "      };\n",
              "\n",
              "      let percentDone = fileData.byteLength === 0 ?\n",
              "          100 :\n",
              "          Math.round((position / fileData.byteLength) * 100);\n",
              "      percent.textContent = `${percentDone}% done`;\n",
              "\n",
              "    } while (position < fileData.byteLength);\n",
              "  }\n",
              "\n",
              "  // All done.\n",
              "  yield {\n",
              "    response: {\n",
              "      action: 'complete',\n",
              "    }\n",
              "  };\n",
              "}\n",
              "\n",
              "scope.google = scope.google || {};\n",
              "scope.google.colab = scope.google.colab || {};\n",
              "scope.google.colab._files = {\n",
              "  _uploadFiles,\n",
              "  _uploadFilesContinue,\n",
              "};\n",
              "})(self);\n",
              "</script> "
            ]
          },
          "metadata": {}
        },
        {
          "output_type": "stream",
          "name": "stdout",
          "text": [
            "Saving PdM_errors.csv to PdM_errors.csv\n"
          ]
        }
      ]
    },
    {
      "cell_type": "code",
      "source": [
        "# Import libraries\n",
        "import pandas as pd\n",
        "import matplotlib.pyplot as plt\n",
        "import seaborn as sns\n",
        "from sklearn.model_selection import train_test_split\n",
        "from sklearn.ensemble import RandomForestClassifier\n",
        "from sklearn.metrics import classification_report, confusion_matrix\n",
        "\n",
        "# Load dataset\n",
        "df = pd.read_csv('PdM_errors.csv')\n",
        "\n",
        "# Display first few rows\n",
        "print(\"First few rows of the dataset:\")\n",
        "print(df.head())\n",
        "\n",
        "# Data Preprocessing\n",
        "print(\"\\nData Preprocessing:\")\n",
        "# Convert datetime column to datetime type\n",
        "df['datetime'] = pd.to_datetime(df['datetime'])\n",
        "\n",
        "# Extract additional features from datetime if needed (e.g., year, month, day, hour)\n",
        "df['year'] = df['datetime'].dt.year\n",
        "df['month'] = df['datetime'].dt.month\n",
        "df['day'] = df['datetime'].dt.day\n",
        "df['hour'] = df['datetime'].dt.hour\n",
        "\n",
        "print(\"Extracted features from datetime:\")\n",
        "print(df.head())\n",
        "\n",
        "# Encode categorical variables (if needed)\n",
        "# Assuming errorID needs to be predicted\n",
        "X = df[['machineID', 'year', 'month', 'day', 'hour']]\n",
        "y = df['errorID']\n",
        "\n",
        "# Split the data into training and testing sets\n",
        "X_train, X_test, y_train, y_test = train_test_split(X, y, test_size=0.3, random_state=42)\n",
        "\n",
        "# Model Development\n",
        "print(\"\\nModel Development:\")\n",
        "# Initialize the model\n",
        "model = RandomForestClassifier(n_estimators=100, random_state=42)\n",
        "\n",
        "# Train the model\n",
        "model.fit(X_train, y_train)\n",
        "\n",
        "# Model Evaluation\n",
        "print(\"\\nModel Evaluation:\")\n",
        "# Predict on test set\n",
        "y_pred = model.predict(X_test)\n",
        "\n",
        "# Classification report\n",
        "report = classification_report(y_test, y_pred)\n",
        "print(\"Classification Report:\")\n",
        "print(report)\n",
        "\n",
        "# Confusion matrix\n",
        "cm = confusion_matrix(y_test, y_pred)\n",
        "print(\"Confusion Matrix:\")\n",
        "print(cm)\n",
        "\n",
        "# Visualization\n",
        "plt.figure(figsize=(10, 7))\n",
        "sns.heatmap(cm, annot=True, fmt='d', cmap='Blues')\n",
        "plt.xlabel('Predicted')\n",
        "plt.ylabel('Actual')\n",
        "plt.title('Confusion Matrix')\n",
        "plt.show()\n"
      ],
      "metadata": {
        "colab": {
          "base_uri": "https://localhost:8080/",
          "height": 1000
        },
        "id": "ZgZHO9cWjzhg",
        "outputId": "37192c9c-b560-4ae5-de3f-01fbd1c71a08"
      },
      "execution_count": null,
      "outputs": [
        {
          "output_type": "stream",
          "name": "stdout",
          "text": [
            "First few rows of the dataset:\n",
            "              datetime  machineID errorID\n",
            "0  2015-01-03 07:00:00          1  error1\n",
            "1  2015-01-03 20:00:00          1  error3\n",
            "2  2015-01-04 06:00:00          1  error5\n",
            "3  2015-01-10 15:00:00          1  error4\n",
            "4  2015-01-22 10:00:00          1  error4\n",
            "\n",
            "Data Preprocessing:\n",
            "Extracted features from datetime:\n",
            "             datetime  machineID errorID  year  month  day  hour\n",
            "0 2015-01-03 07:00:00          1  error1  2015      1    3     7\n",
            "1 2015-01-03 20:00:00          1  error3  2015      1    3    20\n",
            "2 2015-01-04 06:00:00          1  error5  2015      1    4     6\n",
            "3 2015-01-10 15:00:00          1  error4  2015      1   10    15\n",
            "4 2015-01-22 10:00:00          1  error4  2015      1   22    10\n",
            "\n",
            "Model Development:\n",
            "\n",
            "Model Evaluation:\n",
            "Classification Report:\n",
            "              precision    recall  f1-score   support\n",
            "\n",
            "      error1       0.25      0.34      0.29       288\n",
            "      error2       0.17      0.19      0.18       291\n",
            "      error3       0.12      0.10      0.11       269\n",
            "      error4       0.22      0.19      0.20       216\n",
            "      error5       0.08      0.04      0.05       112\n",
            "\n",
            "    accuracy                           0.19      1176\n",
            "   macro avg       0.17      0.17      0.17      1176\n",
            "weighted avg       0.18      0.19      0.18      1176\n",
            "\n",
            "Confusion Matrix:\n",
            "[[ 97  72  61  50   8]\n",
            " [ 94  56  83  43  15]\n",
            " [ 65 132  27  33  12]\n",
            " [ 84  46  36  41   9]\n",
            " [ 42  29  17  20   4]]\n"
          ]
        },
        {
          "output_type": "display_data",
          "data": {
            "text/plain": [
              "<Figure size 1000x700 with 2 Axes>"
            ],
            "image/png": "[encoded data removed]"
          },
          "metadata": {}
        }
      ]
    },
    {
      "cell_type": "code",
      "source": [
        "import pandas as pd\n",
        "import matplotlib.pyplot as plt\n",
        "from sklearn.model_selection import train_test_split\n",
        "from sklearn.metrics import classification_report, confusion_matrix, roc_curve, auc\n",
        "\n",
        "# 1. Prapemrosesan Data\n",
        "# Memuat dataset\n",
        "df = pd.read_csv('PdM_errors.csv')\n",
        "\n",
        "# Menangani missing values\n",
        "df.dropna(inplace=True)\n",
        "\n",
        "# Konversi tipe data\n",
        "df['datetime'] = pd.to_datetime(df['datetime'])\n",
        "\n",
        "# Feature engineering\n",
        "df['hour'] = df['datetime'].dt.hour\n",
        "df['day_of_week'] = df['datetime'].dt.dayofweek\n",
        "\n",
        "# 2. Pengembangan Model (Contoh menggunakan model klasifikasi)\n",
        "# Label encoding errorID\n",
        "from sklearn.preprocessing import LabelEncoder\n",
        "le = LabelEncoder()\n",
        "df['errorID'] = le.fit_transform(df['errorID'])\n",
        "\n",
        "# Pembagian data\n",
        "X = df[['machineID', 'hour', 'day_of_week']]\n",
        "y = df['errorID']\n",
        "X_train, X_test, y_train, y_test = train_test_split(X, y, test_size=0.2, random_state=42)\n",
        "\n",
        "# Pemilihan model\n",
        "from sklearn.ensemble import RandomForestClassifier\n",
        "model = RandomForestClassifier(n_estimators=100, random_state=42)\n",
        "\n",
        "# Pelatihan model\n",
        "model.fit(X_train, y_train)\n",
        "\n",
        "# Evaluasi model\n",
        "y_pred = model.predict(X_test)\n",
        "print(classification_report(y_test, y_pred))\n",
        "\n",
        "# Confusion Matrix\n",
        "conf_matrix = confusion_matrix(y_test, y_pred)\n",
        "plt.figure(figsize=(10, 7))\n",
        "plt.title('Confusion Matrix')\n",
        "sns.heatmap(conf_matrix, annot=True, fmt='d')\n",
        "plt.xlabel('Predicted')\n",
        "plt.ylabel('True')\n",
        "plt.show()\n",
        "\n",
        "# ROC Curve\n",
        "y_pred_prob = model.predict_proba(X_test)\n",
        "fpr, tpr, _ = roc_curve(y_test, y_pred_prob[:, 1], pos_label=1)\n",
        "roc_auc = auc(fpr, tpr)\n",
        "plt.figure(figsize=(10, 7))\n",
        "plt.plot(fpr, tpr, color='darkorange', lw=2, label='ROC curve (area = %0.2f)' % roc_auc)\n",
        "plt.plot([0, 1], [0, 1], color='navy', lw=2, linestyle='--')\n",
        "plt.xlim([0.0, 1.0])\n",
        "plt.ylim([0.0, 1.05])\n",
        "plt.xlabel('False Positive Rate')\n",
        "plt.ylabel('True Positive Rate')\n",
        "plt.title('Receiver Operating Characteristic')\n",
        "plt.legend(loc=\"lower right\")\n",
        "plt.show()\n",
        "\n",
        "# 3. Rekomendasi\n",
        "print(\"Rekomendasi:\")\n",
        "print(\"1. Kumpulkan lebih banyak data untuk memperbaiki kinerja model.\")\n",
        "print(\"2. Tambahkan lebih banyak fitur yang relevan.\")\n",
        "print(\"3. Mencoba model lain yang lebih kompleks atau lebih sederhana.\")\n",
        "print(\"4. Menyediakan sistem pemantauan untuk model yang di-deploy dan melakukan pemeliharaan berkala.\")\n"
      ],
      "metadata": {
        "colab": {
          "base_uri": "https://localhost:8080/",
          "height": 1000
        },
        "id": "ntspcvpPkalK",
        "outputId": "2a153493-22e1-4c33-9ae9-e9c57f47ac12"
      },
      "execution_count": null,
      "outputs": [
        {
          "output_type": "stream",
          "name": "stdout",
          "text": [
            "              precision    recall  f1-score   support\n",
            "\n",
            "           0       0.28      0.28      0.28       189\n",
            "           1       0.20      0.23      0.21       204\n",
            "           2       0.11      0.09      0.10       181\n",
            "           3       0.24      0.24      0.24       136\n",
            "           4       0.15      0.14      0.14        74\n",
            "\n",
            "    accuracy                           0.20       784\n",
            "   macro avg       0.20      0.20      0.19       784\n",
            "weighted avg       0.20      0.20      0.20       784\n",
            "\n"
          ]
        },
        {
          "output_type": "display_data",
          "data": {
            "text/plain": [
              "<Figure size 1000x700 with 2 Axes>"
            ],
            "image/png": "[encoded data removed]"
          },
          "metadata": {}
        },
        {
          "output_type": "display_data",
          "data": {
            "text/plain": [
              "<Figure size 1000x700 with 1 Axes>"
            ],
            "image/png": "[encoded data removed]"
          },
          "metadata": {}
        },
        {
          "output_type": "stream",
          "name": "stdout",
          "text": [
            "Rekomendasi:\n",
            "1. Kumpulkan lebih banyak data untuk memperbaiki kinerja model.\n",
            "2. Tambahkan lebih banyak fitur yang relevan.\n",
            "3. Mencoba model lain yang lebih kompleks atau lebih sederhana.\n",
            "4. Menyediakan sistem pemantauan untuk model yang di-deploy dan melakukan pemeliharaan berkala.\n"
          ]
        }
      ]
    },
    {
      "cell_type": "code",
      "source": [],
      "metadata": {
        "id": "G_tkbOS9kmjl"
      },
      "execution_count": null,
      "outputs": []
    }
  ]
}